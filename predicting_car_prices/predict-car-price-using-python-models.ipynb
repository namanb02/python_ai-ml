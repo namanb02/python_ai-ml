{
 "cells": [
  {
   "cell_type": "code",
   "execution_count": 1,
   "id": "d65e23d4",
   "metadata": {
    "_cell_guid": "b1076dfc-b9ad-4769-8c92-a6c4dae69d19",
    "_uuid": "8f2839f25d086af736a60e9eeb907d3b93b6e0e5",
    "execution": {
     "iopub.execute_input": "2025-05-10T21:19:27.367936Z",
     "iopub.status.busy": "2025-05-10T21:19:27.367606Z",
     "iopub.status.idle": "2025-05-10T21:19:29.247716Z",
     "shell.execute_reply": "2025-05-10T21:19:29.246794Z"
    },
    "papermill": {
     "duration": 1.88702,
     "end_time": "2025-05-10T21:19:29.249463",
     "exception": false,
     "start_time": "2025-05-10T21:19:27.362443",
     "status": "completed"
    },
    "tags": []
   },
   "outputs": [],
   "source": [
    "import pandas as pd\n",
    "import numpy as np"
   ]
  },
  {
   "cell_type": "code",
   "execution_count": 2,
   "id": "492b7312",
   "metadata": {
    "execution": {
     "iopub.execute_input": "2025-05-10T21:19:29.258127Z",
     "iopub.status.busy": "2025-05-10T21:19:29.257554Z",
     "iopub.status.idle": "2025-05-10T21:19:29.281927Z",
     "shell.execute_reply": "2025-05-10T21:19:29.281045Z"
    },
    "papermill": {
     "duration": 0.030757,
     "end_time": "2025-05-10T21:19:29.283911",
     "exception": false,
     "start_time": "2025-05-10T21:19:29.253154",
     "status": "completed"
    },
    "tags": []
   },
   "outputs": [],
   "source": [
    "df = pd.read_csv(\"/kaggle/input/car-dataset/car.csv\")"
   ]
  },
  {
   "cell_type": "code",
   "execution_count": 3,
   "id": "ecb46bc3",
   "metadata": {
    "execution": {
     "iopub.execute_input": "2025-05-10T21:19:29.292411Z",
     "iopub.status.busy": "2025-05-10T21:19:29.291642Z",
     "iopub.status.idle": "2025-05-10T21:19:29.331804Z",
     "shell.execute_reply": "2025-05-10T21:19:29.331004Z"
    },
    "papermill": {
     "duration": 0.045887,
     "end_time": "2025-05-10T21:19:29.333333",
     "exception": false,
     "start_time": "2025-05-10T21:19:29.287446",
     "status": "completed"
    },
    "tags": []
   },
   "outputs": [
    {
     "data": {
      "text/html": [
       "<div>\n",
       "<style scoped>\n",
       "    .dataframe tbody tr th:only-of-type {\n",
       "        vertical-align: middle;\n",
       "    }\n",
       "\n",
       "    .dataframe tbody tr th {\n",
       "        vertical-align: top;\n",
       "    }\n",
       "\n",
       "    .dataframe thead th {\n",
       "        text-align: right;\n",
       "    }\n",
       "</style>\n",
       "<table border=\"1\" class=\"dataframe\">\n",
       "  <thead>\n",
       "    <tr style=\"text-align: right;\">\n",
       "      <th></th>\n",
       "      <th>car_ID</th>\n",
       "      <th>symboling</th>\n",
       "      <th>CarName</th>\n",
       "      <th>fueltype</th>\n",
       "      <th>aspiration</th>\n",
       "      <th>doornumber</th>\n",
       "      <th>carbody</th>\n",
       "      <th>drivewheel</th>\n",
       "      <th>enginelocation</th>\n",
       "      <th>wheelbase</th>\n",
       "      <th>...</th>\n",
       "      <th>enginesize</th>\n",
       "      <th>fuelsystem</th>\n",
       "      <th>boreratio</th>\n",
       "      <th>stroke</th>\n",
       "      <th>compressionratio</th>\n",
       "      <th>horsepower</th>\n",
       "      <th>peakrpm</th>\n",
       "      <th>citympg</th>\n",
       "      <th>highwaympg</th>\n",
       "      <th>price</th>\n",
       "    </tr>\n",
       "  </thead>\n",
       "  <tbody>\n",
       "    <tr>\n",
       "      <th>0</th>\n",
       "      <td>1</td>\n",
       "      <td>3</td>\n",
       "      <td>alfa-romero giulia</td>\n",
       "      <td>gas</td>\n",
       "      <td>std</td>\n",
       "      <td>two</td>\n",
       "      <td>convertible</td>\n",
       "      <td>rwd</td>\n",
       "      <td>front</td>\n",
       "      <td>88.6</td>\n",
       "      <td>...</td>\n",
       "      <td>130</td>\n",
       "      <td>mpfi</td>\n",
       "      <td>3.47</td>\n",
       "      <td>2.68</td>\n",
       "      <td>9.0</td>\n",
       "      <td>111</td>\n",
       "      <td>5000</td>\n",
       "      <td>21</td>\n",
       "      <td>27</td>\n",
       "      <td>13495.0</td>\n",
       "    </tr>\n",
       "    <tr>\n",
       "      <th>1</th>\n",
       "      <td>2</td>\n",
       "      <td>3</td>\n",
       "      <td>alfa-romero stelvio</td>\n",
       "      <td>gas</td>\n",
       "      <td>std</td>\n",
       "      <td>two</td>\n",
       "      <td>convertible</td>\n",
       "      <td>rwd</td>\n",
       "      <td>front</td>\n",
       "      <td>88.6</td>\n",
       "      <td>...</td>\n",
       "      <td>130</td>\n",
       "      <td>mpfi</td>\n",
       "      <td>3.47</td>\n",
       "      <td>2.68</td>\n",
       "      <td>9.0</td>\n",
       "      <td>111</td>\n",
       "      <td>5000</td>\n",
       "      <td>21</td>\n",
       "      <td>27</td>\n",
       "      <td>16500.0</td>\n",
       "    </tr>\n",
       "    <tr>\n",
       "      <th>2</th>\n",
       "      <td>3</td>\n",
       "      <td>1</td>\n",
       "      <td>alfa-romero Quadrifoglio</td>\n",
       "      <td>gas</td>\n",
       "      <td>std</td>\n",
       "      <td>two</td>\n",
       "      <td>hatchback</td>\n",
       "      <td>rwd</td>\n",
       "      <td>front</td>\n",
       "      <td>94.5</td>\n",
       "      <td>...</td>\n",
       "      <td>152</td>\n",
       "      <td>mpfi</td>\n",
       "      <td>2.68</td>\n",
       "      <td>3.47</td>\n",
       "      <td>9.0</td>\n",
       "      <td>154</td>\n",
       "      <td>5000</td>\n",
       "      <td>19</td>\n",
       "      <td>26</td>\n",
       "      <td>16500.0</td>\n",
       "    </tr>\n",
       "    <tr>\n",
       "      <th>3</th>\n",
       "      <td>4</td>\n",
       "      <td>2</td>\n",
       "      <td>audi 100 ls</td>\n",
       "      <td>gas</td>\n",
       "      <td>std</td>\n",
       "      <td>four</td>\n",
       "      <td>sedan</td>\n",
       "      <td>fwd</td>\n",
       "      <td>front</td>\n",
       "      <td>99.8</td>\n",
       "      <td>...</td>\n",
       "      <td>109</td>\n",
       "      <td>mpfi</td>\n",
       "      <td>3.19</td>\n",
       "      <td>3.40</td>\n",
       "      <td>10.0</td>\n",
       "      <td>102</td>\n",
       "      <td>5500</td>\n",
       "      <td>24</td>\n",
       "      <td>30</td>\n",
       "      <td>13950.0</td>\n",
       "    </tr>\n",
       "    <tr>\n",
       "      <th>4</th>\n",
       "      <td>5</td>\n",
       "      <td>2</td>\n",
       "      <td>audi 100ls</td>\n",
       "      <td>gas</td>\n",
       "      <td>std</td>\n",
       "      <td>four</td>\n",
       "      <td>sedan</td>\n",
       "      <td>4wd</td>\n",
       "      <td>front</td>\n",
       "      <td>99.4</td>\n",
       "      <td>...</td>\n",
       "      <td>136</td>\n",
       "      <td>mpfi</td>\n",
       "      <td>3.19</td>\n",
       "      <td>3.40</td>\n",
       "      <td>8.0</td>\n",
       "      <td>115</td>\n",
       "      <td>5500</td>\n",
       "      <td>18</td>\n",
       "      <td>22</td>\n",
       "      <td>17450.0</td>\n",
       "    </tr>\n",
       "  </tbody>\n",
       "</table>\n",
       "<p>5 rows × 26 columns</p>\n",
       "</div>"
      ],
      "text/plain": [
       "   car_ID  symboling                   CarName fueltype aspiration doornumber  \\\n",
       "0       1          3        alfa-romero giulia      gas        std        two   \n",
       "1       2          3       alfa-romero stelvio      gas        std        two   \n",
       "2       3          1  alfa-romero Quadrifoglio      gas        std        two   \n",
       "3       4          2               audi 100 ls      gas        std       four   \n",
       "4       5          2                audi 100ls      gas        std       four   \n",
       "\n",
       "       carbody drivewheel enginelocation  wheelbase  ...  enginesize  \\\n",
       "0  convertible        rwd          front       88.6  ...         130   \n",
       "1  convertible        rwd          front       88.6  ...         130   \n",
       "2    hatchback        rwd          front       94.5  ...         152   \n",
       "3        sedan        fwd          front       99.8  ...         109   \n",
       "4        sedan        4wd          front       99.4  ...         136   \n",
       "\n",
       "   fuelsystem  boreratio  stroke compressionratio horsepower  peakrpm citympg  \\\n",
       "0        mpfi       3.47    2.68              9.0        111     5000      21   \n",
       "1        mpfi       3.47    2.68              9.0        111     5000      21   \n",
       "2        mpfi       2.68    3.47              9.0        154     5000      19   \n",
       "3        mpfi       3.19    3.40             10.0        102     5500      24   \n",
       "4        mpfi       3.19    3.40              8.0        115     5500      18   \n",
       "\n",
       "   highwaympg    price  \n",
       "0          27  13495.0  \n",
       "1          27  16500.0  \n",
       "2          26  16500.0  \n",
       "3          30  13950.0  \n",
       "4          22  17450.0  \n",
       "\n",
       "[5 rows x 26 columns]"
      ]
     },
     "execution_count": 3,
     "metadata": {},
     "output_type": "execute_result"
    }
   ],
   "source": [
    "df.head()"
   ]
  },
  {
   "cell_type": "code",
   "execution_count": 4,
   "id": "3c3c8a3a",
   "metadata": {
    "execution": {
     "iopub.execute_input": "2025-05-10T21:19:29.342596Z",
     "iopub.status.busy": "2025-05-10T21:19:29.341714Z",
     "iopub.status.idle": "2025-05-10T21:19:29.351387Z",
     "shell.execute_reply": "2025-05-10T21:19:29.350543Z"
    },
    "papermill": {
     "duration": 0.015528,
     "end_time": "2025-05-10T21:19:29.352646",
     "exception": false,
     "start_time": "2025-05-10T21:19:29.337118",
     "status": "completed"
    },
    "tags": []
   },
   "outputs": [
    {
     "data": {
      "text/plain": [
       "car_ID              0\n",
       "symboling           0\n",
       "CarName             0\n",
       "fueltype            0\n",
       "aspiration          0\n",
       "doornumber          0\n",
       "carbody             0\n",
       "drivewheel          0\n",
       "enginelocation      0\n",
       "wheelbase           0\n",
       "carlength           0\n",
       "carwidth            0\n",
       "carheight           0\n",
       "curbweight          0\n",
       "enginetype          0\n",
       "cylindernumber      0\n",
       "enginesize          0\n",
       "fuelsystem          0\n",
       "boreratio           0\n",
       "stroke              0\n",
       "compressionratio    0\n",
       "horsepower          0\n",
       "peakrpm             0\n",
       "citympg             0\n",
       "highwaympg          0\n",
       "price               0\n",
       "dtype: int64"
      ]
     },
     "execution_count": 4,
     "metadata": {},
     "output_type": "execute_result"
    }
   ],
   "source": [
    "# checking for null values\n",
    "df.isna().sum()"
   ]
  },
  {
   "cell_type": "markdown",
   "id": "04a3c59b",
   "metadata": {
    "papermill": {
     "duration": 0.003334,
     "end_time": "2025-05-10T21:19:29.359720",
     "exception": false,
     "start_time": "2025-05-10T21:19:29.356386",
     "status": "completed"
    },
    "tags": []
   },
   "source": [
    "**None of the values are null**"
   ]
  },
  {
   "cell_type": "code",
   "execution_count": 5,
   "id": "d496216c",
   "metadata": {
    "execution": {
     "iopub.execute_input": "2025-05-10T21:19:29.367933Z",
     "iopub.status.busy": "2025-05-10T21:19:29.367633Z",
     "iopub.status.idle": "2025-05-10T21:19:29.383751Z",
     "shell.execute_reply": "2025-05-10T21:19:29.382795Z"
    },
    "papermill": {
     "duration": 0.022145,
     "end_time": "2025-05-10T21:19:29.385389",
     "exception": false,
     "start_time": "2025-05-10T21:19:29.363244",
     "status": "completed"
    },
    "tags": []
   },
   "outputs": [
    {
     "data": {
      "text/plain": [
       "0"
      ]
     },
     "execution_count": 5,
     "metadata": {},
     "output_type": "execute_result"
    }
   ],
   "source": [
    "# checking for duplicate values\n",
    "df.duplicated().sum()"
   ]
  },
  {
   "cell_type": "markdown",
   "id": "2e2e0305",
   "metadata": {
    "papermill": {
     "duration": 0.003479,
     "end_time": "2025-05-10T21:19:29.393068",
     "exception": false,
     "start_time": "2025-05-10T21:19:29.389589",
     "status": "completed"
    },
    "tags": []
   },
   "source": [
    "**No duplicate values**"
   ]
  },
  {
   "cell_type": "code",
   "execution_count": 6,
   "id": "bfc65ea6",
   "metadata": {
    "execution": {
     "iopub.execute_input": "2025-05-10T21:19:29.401439Z",
     "iopub.status.busy": "2025-05-10T21:19:29.401144Z",
     "iopub.status.idle": "2025-05-10T21:19:29.442328Z",
     "shell.execute_reply": "2025-05-10T21:19:29.441480Z"
    },
    "papermill": {
     "duration": 0.04726,
     "end_time": "2025-05-10T21:19:29.443908",
     "exception": false,
     "start_time": "2025-05-10T21:19:29.396648",
     "status": "completed"
    },
    "tags": []
   },
   "outputs": [
    {
     "data": {
      "text/html": [
       "<div>\n",
       "<style scoped>\n",
       "    .dataframe tbody tr th:only-of-type {\n",
       "        vertical-align: middle;\n",
       "    }\n",
       "\n",
       "    .dataframe tbody tr th {\n",
       "        vertical-align: top;\n",
       "    }\n",
       "\n",
       "    .dataframe thead th {\n",
       "        text-align: right;\n",
       "    }\n",
       "</style>\n",
       "<table border=\"1\" class=\"dataframe\">\n",
       "  <thead>\n",
       "    <tr style=\"text-align: right;\">\n",
       "      <th></th>\n",
       "      <th>car_ID</th>\n",
       "      <th>symboling</th>\n",
       "      <th>wheelbase</th>\n",
       "      <th>carlength</th>\n",
       "      <th>carwidth</th>\n",
       "      <th>carheight</th>\n",
       "      <th>curbweight</th>\n",
       "      <th>enginesize</th>\n",
       "      <th>boreratio</th>\n",
       "      <th>stroke</th>\n",
       "      <th>compressionratio</th>\n",
       "      <th>horsepower</th>\n",
       "      <th>peakrpm</th>\n",
       "      <th>citympg</th>\n",
       "      <th>highwaympg</th>\n",
       "      <th>price</th>\n",
       "    </tr>\n",
       "  </thead>\n",
       "  <tbody>\n",
       "    <tr>\n",
       "      <th>count</th>\n",
       "      <td>205.000000</td>\n",
       "      <td>205.000000</td>\n",
       "      <td>205.000000</td>\n",
       "      <td>205.000000</td>\n",
       "      <td>205.000000</td>\n",
       "      <td>205.000000</td>\n",
       "      <td>205.000000</td>\n",
       "      <td>205.000000</td>\n",
       "      <td>205.000000</td>\n",
       "      <td>205.000000</td>\n",
       "      <td>205.000000</td>\n",
       "      <td>205.000000</td>\n",
       "      <td>205.000000</td>\n",
       "      <td>205.000000</td>\n",
       "      <td>205.000000</td>\n",
       "      <td>205.000000</td>\n",
       "    </tr>\n",
       "    <tr>\n",
       "      <th>mean</th>\n",
       "      <td>103.000000</td>\n",
       "      <td>0.834146</td>\n",
       "      <td>98.756585</td>\n",
       "      <td>174.049268</td>\n",
       "      <td>65.907805</td>\n",
       "      <td>53.724878</td>\n",
       "      <td>2555.565854</td>\n",
       "      <td>126.907317</td>\n",
       "      <td>3.329756</td>\n",
       "      <td>3.255415</td>\n",
       "      <td>10.142537</td>\n",
       "      <td>104.117073</td>\n",
       "      <td>5125.121951</td>\n",
       "      <td>25.219512</td>\n",
       "      <td>30.751220</td>\n",
       "      <td>13276.710571</td>\n",
       "    </tr>\n",
       "    <tr>\n",
       "      <th>std</th>\n",
       "      <td>59.322565</td>\n",
       "      <td>1.245307</td>\n",
       "      <td>6.021776</td>\n",
       "      <td>12.337289</td>\n",
       "      <td>2.145204</td>\n",
       "      <td>2.443522</td>\n",
       "      <td>520.680204</td>\n",
       "      <td>41.642693</td>\n",
       "      <td>0.270844</td>\n",
       "      <td>0.313597</td>\n",
       "      <td>3.972040</td>\n",
       "      <td>39.544167</td>\n",
       "      <td>476.985643</td>\n",
       "      <td>6.542142</td>\n",
       "      <td>6.886443</td>\n",
       "      <td>7988.852332</td>\n",
       "    </tr>\n",
       "    <tr>\n",
       "      <th>min</th>\n",
       "      <td>1.000000</td>\n",
       "      <td>-2.000000</td>\n",
       "      <td>86.600000</td>\n",
       "      <td>141.100000</td>\n",
       "      <td>60.300000</td>\n",
       "      <td>47.800000</td>\n",
       "      <td>1488.000000</td>\n",
       "      <td>61.000000</td>\n",
       "      <td>2.540000</td>\n",
       "      <td>2.070000</td>\n",
       "      <td>7.000000</td>\n",
       "      <td>48.000000</td>\n",
       "      <td>4150.000000</td>\n",
       "      <td>13.000000</td>\n",
       "      <td>16.000000</td>\n",
       "      <td>5118.000000</td>\n",
       "    </tr>\n",
       "    <tr>\n",
       "      <th>25%</th>\n",
       "      <td>52.000000</td>\n",
       "      <td>0.000000</td>\n",
       "      <td>94.500000</td>\n",
       "      <td>166.300000</td>\n",
       "      <td>64.100000</td>\n",
       "      <td>52.000000</td>\n",
       "      <td>2145.000000</td>\n",
       "      <td>97.000000</td>\n",
       "      <td>3.150000</td>\n",
       "      <td>3.110000</td>\n",
       "      <td>8.600000</td>\n",
       "      <td>70.000000</td>\n",
       "      <td>4800.000000</td>\n",
       "      <td>19.000000</td>\n",
       "      <td>25.000000</td>\n",
       "      <td>7788.000000</td>\n",
       "    </tr>\n",
       "    <tr>\n",
       "      <th>50%</th>\n",
       "      <td>103.000000</td>\n",
       "      <td>1.000000</td>\n",
       "      <td>97.000000</td>\n",
       "      <td>173.200000</td>\n",
       "      <td>65.500000</td>\n",
       "      <td>54.100000</td>\n",
       "      <td>2414.000000</td>\n",
       "      <td>120.000000</td>\n",
       "      <td>3.310000</td>\n",
       "      <td>3.290000</td>\n",
       "      <td>9.000000</td>\n",
       "      <td>95.000000</td>\n",
       "      <td>5200.000000</td>\n",
       "      <td>24.000000</td>\n",
       "      <td>30.000000</td>\n",
       "      <td>10295.000000</td>\n",
       "    </tr>\n",
       "    <tr>\n",
       "      <th>75%</th>\n",
       "      <td>154.000000</td>\n",
       "      <td>2.000000</td>\n",
       "      <td>102.400000</td>\n",
       "      <td>183.100000</td>\n",
       "      <td>66.900000</td>\n",
       "      <td>55.500000</td>\n",
       "      <td>2935.000000</td>\n",
       "      <td>141.000000</td>\n",
       "      <td>3.580000</td>\n",
       "      <td>3.410000</td>\n",
       "      <td>9.400000</td>\n",
       "      <td>116.000000</td>\n",
       "      <td>5500.000000</td>\n",
       "      <td>30.000000</td>\n",
       "      <td>34.000000</td>\n",
       "      <td>16503.000000</td>\n",
       "    </tr>\n",
       "    <tr>\n",
       "      <th>max</th>\n",
       "      <td>205.000000</td>\n",
       "      <td>3.000000</td>\n",
       "      <td>120.900000</td>\n",
       "      <td>208.100000</td>\n",
       "      <td>72.300000</td>\n",
       "      <td>59.800000</td>\n",
       "      <td>4066.000000</td>\n",
       "      <td>326.000000</td>\n",
       "      <td>3.940000</td>\n",
       "      <td>4.170000</td>\n",
       "      <td>23.000000</td>\n",
       "      <td>288.000000</td>\n",
       "      <td>6600.000000</td>\n",
       "      <td>49.000000</td>\n",
       "      <td>54.000000</td>\n",
       "      <td>45400.000000</td>\n",
       "    </tr>\n",
       "  </tbody>\n",
       "</table>\n",
       "</div>"
      ],
      "text/plain": [
       "           car_ID   symboling   wheelbase   carlength    carwidth   carheight  \\\n",
       "count  205.000000  205.000000  205.000000  205.000000  205.000000  205.000000   \n",
       "mean   103.000000    0.834146   98.756585  174.049268   65.907805   53.724878   \n",
       "std     59.322565    1.245307    6.021776   12.337289    2.145204    2.443522   \n",
       "min      1.000000   -2.000000   86.600000  141.100000   60.300000   47.800000   \n",
       "25%     52.000000    0.000000   94.500000  166.300000   64.100000   52.000000   \n",
       "50%    103.000000    1.000000   97.000000  173.200000   65.500000   54.100000   \n",
       "75%    154.000000    2.000000  102.400000  183.100000   66.900000   55.500000   \n",
       "max    205.000000    3.000000  120.900000  208.100000   72.300000   59.800000   \n",
       "\n",
       "        curbweight  enginesize   boreratio      stroke  compressionratio  \\\n",
       "count   205.000000  205.000000  205.000000  205.000000        205.000000   \n",
       "mean   2555.565854  126.907317    3.329756    3.255415         10.142537   \n",
       "std     520.680204   41.642693    0.270844    0.313597          3.972040   \n",
       "min    1488.000000   61.000000    2.540000    2.070000          7.000000   \n",
       "25%    2145.000000   97.000000    3.150000    3.110000          8.600000   \n",
       "50%    2414.000000  120.000000    3.310000    3.290000          9.000000   \n",
       "75%    2935.000000  141.000000    3.580000    3.410000          9.400000   \n",
       "max    4066.000000  326.000000    3.940000    4.170000         23.000000   \n",
       "\n",
       "       horsepower      peakrpm     citympg  highwaympg         price  \n",
       "count  205.000000   205.000000  205.000000  205.000000    205.000000  \n",
       "mean   104.117073  5125.121951   25.219512   30.751220  13276.710571  \n",
       "std     39.544167   476.985643    6.542142    6.886443   7988.852332  \n",
       "min     48.000000  4150.000000   13.000000   16.000000   5118.000000  \n",
       "25%     70.000000  4800.000000   19.000000   25.000000   7788.000000  \n",
       "50%     95.000000  5200.000000   24.000000   30.000000  10295.000000  \n",
       "75%    116.000000  5500.000000   30.000000   34.000000  16503.000000  \n",
       "max    288.000000  6600.000000   49.000000   54.000000  45400.000000  "
      ]
     },
     "execution_count": 6,
     "metadata": {},
     "output_type": "execute_result"
    }
   ],
   "source": [
    "df.describe()"
   ]
  },
  {
   "cell_type": "code",
   "execution_count": 7,
   "id": "c62ed2ab",
   "metadata": {
    "execution": {
     "iopub.execute_input": "2025-05-10T21:19:29.458969Z",
     "iopub.status.busy": "2025-05-10T21:19:29.458661Z",
     "iopub.status.idle": "2025-05-10T21:19:31.341756Z",
     "shell.execute_reply": "2025-05-10T21:19:31.340863Z"
    },
    "papermill": {
     "duration": 1.892423,
     "end_time": "2025-05-10T21:19:31.343580",
     "exception": false,
     "start_time": "2025-05-10T21:19:29.451157",
     "status": "completed"
    },
    "tags": []
   },
   "outputs": [],
   "source": [
    "from sklearn.model_selection import train_test_split, GridSearchCV\n",
    "from sklearn.linear_model import LinearRegression\n",
    "from sklearn.ensemble import RandomForestRegressor, GradientBoostingRegressor\n",
    "from sklearn.metrics import mean_absolute_error, mean_squared_error, r2_score\n",
    "from sklearn.preprocessing import StandardScaler, OneHotEncoder\n",
    "from sklearn.compose import ColumnTransformer\n",
    "from sklearn.pipeline import Pipeline\n",
    "import warnings\n",
    "\n",
    "warnings.simplefilter('ignore')"
   ]
  },
  {
   "cell_type": "code",
   "execution_count": 8,
   "id": "d6b98d5e",
   "metadata": {
    "execution": {
     "iopub.execute_input": "2025-05-10T21:19:31.353466Z",
     "iopub.status.busy": "2025-05-10T21:19:31.352801Z",
     "iopub.status.idle": "2025-05-10T21:19:31.362029Z",
     "shell.execute_reply": "2025-05-10T21:19:31.361138Z"
    },
    "papermill": {
     "duration": 0.016026,
     "end_time": "2025-05-10T21:19:31.363679",
     "exception": false,
     "start_time": "2025-05-10T21:19:31.347653",
     "status": "completed"
    },
    "tags": []
   },
   "outputs": [],
   "source": [
    "# removing irrelevant column: car_ID\n",
    "df=df.drop(['car_ID'], axis=1)\n",
    "X=df.drop(['price'], axis=1) #Features\n",
    "y=df['price'] #Target variable"
   ]
  },
  {
   "cell_type": "code",
   "execution_count": 9,
   "id": "12d51880",
   "metadata": {
    "execution": {
     "iopub.execute_input": "2025-05-10T21:19:31.373721Z",
     "iopub.status.busy": "2025-05-10T21:19:31.373116Z",
     "iopub.status.idle": "2025-05-10T21:19:31.378841Z",
     "shell.execute_reply": "2025-05-10T21:19:31.377940Z"
    },
    "papermill": {
     "duration": 0.012333,
     "end_time": "2025-05-10T21:19:31.380415",
     "exception": false,
     "start_time": "2025-05-10T21:19:31.368082",
     "status": "completed"
    },
    "tags": []
   },
   "outputs": [],
   "source": [
    "categorical_cols = X.select_dtypes(include='object').columns.tolist()\n",
    "numeric_cols = X.select_dtypes(include=['int64', 'float64']).columns.tolist()"
   ]
  },
  {
   "cell_type": "code",
   "execution_count": 10,
   "id": "0cc26b4b",
   "metadata": {
    "execution": {
     "iopub.execute_input": "2025-05-10T21:19:31.389853Z",
     "iopub.status.busy": "2025-05-10T21:19:31.389535Z",
     "iopub.status.idle": "2025-05-10T21:19:31.394089Z",
     "shell.execute_reply": "2025-05-10T21:19:31.393182Z"
    },
    "papermill": {
     "duration": 0.01101,
     "end_time": "2025-05-10T21:19:31.395620",
     "exception": false,
     "start_time": "2025-05-10T21:19:31.384610",
     "status": "completed"
    },
    "tags": []
   },
   "outputs": [],
   "source": [
    "# ColumnTransformer to handle both scaling and encoding\n",
    "# converts \"str\" data or \"non-int\" or \"non-float\" data into numbers\n",
    "preprocessor = ColumnTransformer(transformers=[\n",
    "    ('num', StandardScaler(), numeric_cols),\n",
    "    ('cat', OneHotEncoder(handle_unknown='ignore'), categorical_cols)\n",
    "])"
   ]
  },
  {
   "cell_type": "code",
   "execution_count": 11,
   "id": "d3968708",
   "metadata": {
    "execution": {
     "iopub.execute_input": "2025-05-10T21:19:31.405099Z",
     "iopub.status.busy": "2025-05-10T21:19:31.404735Z",
     "iopub.status.idle": "2025-05-10T21:19:31.412379Z",
     "shell.execute_reply": "2025-05-10T21:19:31.411478Z"
    },
    "papermill": {
     "duration": 0.014074,
     "end_time": "2025-05-10T21:19:31.413899",
     "exception": false,
     "start_time": "2025-05-10T21:19:31.399825",
     "status": "completed"
    },
    "tags": []
   },
   "outputs": [],
   "source": [
    "# Splitting data into test-train data with 80:20 split\n",
    "X_train, X_test, y_train, y_test = train_test_split(X,y,test_size=0.2, random_state=42)"
   ]
  },
  {
   "cell_type": "code",
   "execution_count": 12,
   "id": "d15e3852",
   "metadata": {
    "execution": {
     "iopub.execute_input": "2025-05-10T21:19:31.423665Z",
     "iopub.status.busy": "2025-05-10T21:19:31.423342Z",
     "iopub.status.idle": "2025-05-10T21:19:31.427752Z",
     "shell.execute_reply": "2025-05-10T21:19:31.426953Z"
    },
    "papermill": {
     "duration": 0.011006,
     "end_time": "2025-05-10T21:19:31.429298",
     "exception": false,
     "start_time": "2025-05-10T21:19:31.418292",
     "status": "completed"
    },
    "tags": []
   },
   "outputs": [],
   "source": [
    "# Defining 3 models\n",
    "base_models = {\n",
    "    'Linear Regression': LinearRegression(),\n",
    "    'Random Forest': RandomForestRegressor(random_state=42),\n",
    "    'Gradient Boosting': GradientBoostingRegressor(random_state=42)\n",
    "}"
   ]
  },
  {
   "cell_type": "code",
   "execution_count": 13,
   "id": "cc46e37c",
   "metadata": {
    "execution": {
     "iopub.execute_input": "2025-05-10T21:19:31.438564Z",
     "iopub.status.busy": "2025-05-10T21:19:31.438235Z",
     "iopub.status.idle": "2025-05-10T21:19:31.443211Z",
     "shell.execute_reply": "2025-05-10T21:19:31.442362Z"
    },
    "papermill": {
     "duration": 0.011233,
     "end_time": "2025-05-10T21:19:31.444598",
     "exception": false,
     "start_time": "2025-05-10T21:19:31.433365",
     "status": "completed"
    },
    "tags": []
   },
   "outputs": [],
   "source": [
    "# Define parameter grids; only for random forest and gradient boosting\n",
    "param_grid = {\n",
    "    'Random Forest': {\n",
    "        'regressor__n_estimators': [50, 100, 200],\n",
    "        'regressor__max_depth': [None, 10, 20]\n",
    "    },\n",
    "    'Gradient Boosting': {\n",
    "        'regressor__n_estimators': [50, 100, 200],\n",
    "        'regressor__learning_rate': [0.01, 0.1, 0.2],\n",
    "        'regressor__max_depth': [3, 5, 10]\n",
    "    }\n",
    "}"
   ]
  },
  {
   "cell_type": "code",
   "execution_count": 14,
   "id": "2d5c8927",
   "metadata": {
    "execution": {
     "iopub.execute_input": "2025-05-10T21:19:31.453787Z",
     "iopub.status.busy": "2025-05-10T21:19:31.453512Z",
     "iopub.status.idle": "2025-05-10T21:20:20.231942Z",
     "shell.execute_reply": "2025-05-10T21:20:20.230991Z"
    },
    "papermill": {
     "duration": 48.787745,
     "end_time": "2025-05-10T21:20:20.236487",
     "exception": false,
     "start_time": "2025-05-10T21:19:31.448742",
     "status": "completed"
    },
    "tags": []
   },
   "outputs": [
    {
     "name": "stdout",
     "output_type": "stream",
     "text": [
      "Random Forest Best Params: {'regressor__max_depth': None, 'regressor__n_estimators': 200}\n",
      "Gradient Boosting Best Params: {'regressor__learning_rate': 0.1, 'regressor__max_depth': 3, 'regressor__n_estimators': 200}\n"
     ]
    }
   ],
   "source": [
    "# Final models dictionary after tuning\n",
    "final_models = {}\n",
    "\n",
    "# Tune and fit models\n",
    "for name, model in base_models.items():\n",
    "    pipeline = Pipeline(steps=[\n",
    "        ('preprocessor', preprocessor),\n",
    "        ('regressor', model)\n",
    "    ])\n",
    "\n",
    "    # finding best hyperparameters for each model\n",
    "    if name in param_grid:\n",
    "        grid_search = GridSearchCV(pipeline, param_grid[name], cv=5, scoring='neg_mean_squared_error')\n",
    "        grid_search.fit(X_train, y_train)\n",
    "        final_models[name] = grid_search.best_estimator_\n",
    "        print(f\"{name} Best Params: {grid_search.best_params_}\")\n",
    "    else:\n",
    "        pipeline.fit(X_train, y_train)\n",
    "        final_models[name] = pipeline"
   ]
  },
  {
   "cell_type": "code",
   "execution_count": 15,
   "id": "2968022d",
   "metadata": {
    "execution": {
     "iopub.execute_input": "2025-05-10T21:20:20.246094Z",
     "iopub.status.busy": "2025-05-10T21:20:20.245743Z",
     "iopub.status.idle": "2025-05-10T21:20:20.281488Z",
     "shell.execute_reply": "2025-05-10T21:20:20.280391Z"
    },
    "papermill": {
     "duration": 0.042535,
     "end_time": "2025-05-10T21:20:20.283253",
     "exception": false,
     "start_time": "2025-05-10T21:20:20.240718",
     "status": "completed"
    },
    "tags": []
   },
   "outputs": [
    {
     "name": "stdout",
     "output_type": "stream",
     "text": [
      "\n",
      "Model Performance:\n",
      "\n",
      "Linear Regression:\n",
      "MAE: 3700.777620653345\n",
      "MSE: 41996884.32380561\n",
      "R2 Score: 0.4680169079831177\n",
      "----------------------------------------\n",
      "Random Forest:\n",
      "MAE: 1329.1173902439023\n",
      "MSE: 3538235.210704548\n",
      "R2 Score: 0.9551804535507732\n",
      "----------------------------------------\n",
      "Gradient Boosting:\n",
      "MAE: 1734.2309165888576\n",
      "MSE: 5576813.198848643\n",
      "R2 Score: 0.9293573707456586\n",
      "----------------------------------------\n"
     ]
    }
   ],
   "source": [
    "# Evaluate all models\n",
    "# Predict based on already trained models\n",
    "print(\"\\nModel Performance:\\n\")\n",
    "for name, model in final_models.items():\n",
    "    y_pred = model.predict(X_test)\n",
    "    print(f\"{name}:\")\n",
    "    print(\"MAE:\", mean_absolute_error(y_test, y_pred))\n",
    "    print(\"MSE:\", mean_squared_error(y_test, y_pred))\n",
    "    print(\"R2 Score:\", r2_score(y_test, y_pred))\n",
    "    print(\"-\" * 40)"
   ]
  }
 ],
 "metadata": {
  "kaggle": {
   "accelerator": "none",
   "dataSources": [
    {
     "datasetId": 4334219,
     "sourceId": 7446308,
     "sourceType": "datasetVersion"
    }
   ],
   "dockerImageVersionId": 31012,
   "isGpuEnabled": false,
   "isInternetEnabled": false,
   "language": "python",
   "sourceType": "notebook"
  },
  "kernelspec": {
   "display_name": "Python 3",
   "language": "python",
   "name": "python3"
  },
  "language_info": {
   "codemirror_mode": {
    "name": "ipython",
    "version": 3
   },
   "file_extension": ".py",
   "mimetype": "text/x-python",
   "name": "python",
   "nbconvert_exporter": "python",
   "pygments_lexer": "ipython3",
   "version": "3.11.11"
  },
  "papermill": {
   "default_parameters": {},
   "duration": 58.357898,
   "end_time": "2025-05-10T21:20:21.007764",
   "environment_variables": {},
   "exception": null,
   "input_path": "__notebook__.ipynb",
   "output_path": "__notebook__.ipynb",
   "parameters": {},
   "start_time": "2025-05-10T21:19:22.649866",
   "version": "2.6.0"
  }
 },
 "nbformat": 4,
 "nbformat_minor": 5
}
